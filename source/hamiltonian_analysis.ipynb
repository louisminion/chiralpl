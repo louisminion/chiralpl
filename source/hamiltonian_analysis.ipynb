{
 "cells": [
  {
   "cell_type": "code",
   "execution_count": 2,
   "metadata": {},
   "outputs": [],
   "source": [
    "import numpy as np\n",
    "from scipy.io import FortranFile\n",
    "f =FortranFile('Houtput.dat','r')\n",
    "ndim=(140,140)\n",
    "# print(f.read_reals(float).reshape(ndim, order=\"F\"))\n",
    "a=f.read_reals(float).reshape(ndim, order=\"F\")\n",
    "f.close()\n",
    "# dir(f)"
   ]
  },
  {
   "cell_type": "code",
   "execution_count": 3,
   "metadata": {},
   "outputs": [
    {
     "data": {
      "text/plain": [
       "False"
      ]
     },
     "execution_count": 3,
     "metadata": {},
     "output_type": "execute_result"
    }
   ],
   "source": [
    "from scipy.linalg import ishermitian\n",
    "ishermitian(a)"
   ]
  },
  {
   "cell_type": "code",
   "execution_count": 4,
   "metadata": {},
   "outputs": [
    {
     "name": "stdout",
     "output_type": "stream",
     "text": [
      "[[ 1.78571429e+01             nan             nan ...  2.53176355e-02\n",
      "   0.00000000e+00  0.00000000e+00]\n",
      " [            nan  1.88571429e+01             nan ...  0.00000000e+00\n",
      "   0.00000000e+00  0.00000000e+00]\n",
      " [            nan             nan  1.98571429e+01 ... -1.79022718e-02\n",
      "   0.00000000e+00  0.00000000e+00]\n",
      " ...\n",
      " [ 2.53176355e-02  0.00000000e+00 -1.79022718e-02 ...  2.18571429e+01\n",
      "   0.00000000e+00  0.00000000e+00]\n",
      " [ 0.00000000e+00  0.00000000e+00  0.00000000e+00 ...  0.00000000e+00\n",
      "   2.18571429e+01  0.00000000e+00]\n",
      " [ 0.00000000e+00  0.00000000e+00  0.00000000e+00 ...  0.00000000e+00\n",
      "   0.00000000e+00  2.18571429e+01]]\n"
     ]
    }
   ],
   "source": [
    "print(a)"
   ]
  },
  {
   "cell_type": "code",
   "execution_count": null,
   "metadata": {},
   "outputs": [],
   "source": []
  }
 ],
 "metadata": {
  "kernelspec": {
   "display_name": "Python 3",
   "language": "python",
   "name": "python3"
  },
  "language_info": {
   "codemirror_mode": {
    "name": "ipython",
    "version": 3
   },
   "file_extension": ".py",
   "mimetype": "text/x-python",
   "name": "python",
   "nbconvert_exporter": "python",
   "pygments_lexer": "ipython3",
   "version": "3.13.1"
  }
 },
 "nbformat": 4,
 "nbformat_minor": 2
}
