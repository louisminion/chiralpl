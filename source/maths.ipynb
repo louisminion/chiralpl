{
 "cells": [
  {
   "cell_type": "code",
   "execution_count": 153,
   "metadata": {},
   "outputs": [
    {
     "data": {
      "text/latex": [
       "$\\displaystyle \\lambda$"
      ],
      "text/plain": [
       "\\lambda"
      ]
     },
     "execution_count": 153,
     "metadata": {},
     "output_type": "execute_result"
    }
   ],
   "source": [
    "import sympy as sp\n",
    "from sympy.physics.quantum import Ket, Bra,Dagger\n",
    "\n",
    "# Define symbolic parameters\n",
    "N = sp.symbols('N', integer=True, positive=True)  # Number of sites\n",
    "E, omega, S = sp.symbols(r'E \\omega S', real=True)  # Energy terms\n",
    "E_CT_s = sp.symbols('E_{CT}(s)')\n",
    "V_exCT = sp.symbols('V_exCT', real=True)  # Exciton-CT coupling\n",
    "t_e, t_h = sp.symbols('t_e t_h', real=True)  # Electron and hole hopping integrals\n",
    "psi_alpha = sp.symbols(r'\\psi_{\\alpha}')\n",
    "lambd,lambdplus,lamdminus = sp.symbols(r'\\lambda \\lambda_{+} \\lambda_{-}')\n",
    "# Define site indices\n",
    "n, m,ndash = sp.symbols(\"n m n'\", integer=True)\n",
    "# c_alphanv = sp.symbols(r\"c_{n\\,\\tilde{v}}^{\\alpha}\")\n",
    "c_alphanv_nvdash = sp.symbols(r\"c_{n\\,\\tilde{v};n'\\,v'}^{\\alpha}\")\n",
    "d_alphanvsc = sp.symbols(r\"d_{n\\,v^{+};s\\,v^{-}}^{\\alpha}\")\n",
    "vtilde, vdash, v_max = sp.symbols(\"vtilde v' v_{max}\", integer=True)\n",
    "vplus,s,vminus = sp.symbols('v^{+} s v^{-}')\n",
    "oneParticlestate = Ket(n,vtilde)\n",
    "\n",
    "# twoParticlestate = Ket(\"n,0\")\n",
    "oneParticlestate\n",
    "c = sp.IndexedBase('c')\n",
    "\n",
    "d = sp.IndexedBase('d')\n",
    "J = sp.IndexedBase('J')\n",
    "b = sp.IndexedBase('b')\n",
    "twoParticlestate = Ket(n,vtilde)\n",
    "twoParticlestate = Ket(n,vtilde,ndash,vdash)\n",
    "chargeTransferstate = Ket(n,vplus,n+s,vminus)\n",
    "\n",
    "wavefunctions = Ket(psi_alpha)\n",
    "wavefunctions\n",
    "\n",
    "oneParticlestate.subs(vtilde,0)\n",
    "\n",
    "lambd\n"
   ]
  },
  {
   "cell_type": "code",
   "execution_count": 157,
   "metadata": {},
   "outputs": [
    {
     "data": {
      "text/latex": [
       "$\\displaystyle \\omega \\sum_{n=0}^{N} {b}_{n}^{\\dagger} {b}_{n} + \\omega \\sum_{n=0}^{N} \\left(\\lambda^{2} + \\lambda \\left({b}_{n}^{\\dagger} + {b}_{n}\\right)\\right) {\\left|n\\right\\rangle } {\\left\\langle n\\right|}$"
      ],
      "text/plain": [
       "\\omega*Sum(Dagger(b[n])*b[n], (n, 0, N)) + \\omega*Sum((\\lambda**2 + \\lambda*(Dagger(b[n]) + b[n]))*|n>*<n|, (n, 0, N))"
      ]
     },
     "execution_count": 157,
     "metadata": {},
     "output_type": "execute_result"
    }
   ],
   "source": [
    "basis = sp.Sum(sp.Sum(c[n,vtilde]*oneParticlestate, (vtilde,0,v_max)), (n, 1, N)) + sp.Sum(sp.Sum(sp.Sum(sp.Sum(c[n,vtilde,ndash,vdash]*twoParticlestate, (vdash,1,v_max)),(ndash,0,N)),(vtilde,0,v_max)), (n, 1, N))+sp.Sum(sp.Sum(sp.Sum(sp.Sum(d[n,vplus,s,vminus]*chargeTransferstate, (vminus,0,v_max)),(s,1,N)),(vplus,0,v_max)), (n, 1, N))\n",
    "H_ex = E*sp.Sum( oneParticlestate.subs(vtilde,0) *oneParticlestate.subs(vtilde,0).dual, (n, 1, N)) + sp.Sum(sp.Sum(J[n,m]*oneParticlestate.subs(vtilde,0)*oneParticlestate.subs({vtilde:0,n:m}).dual,(m,0,N)),(n,0,N)) + sp.Sum(sp.Sum(J[m,n]*oneParticlestate.subs({vtilde:0,n:m})*oneParticlestate.subs(vtilde,0).dual,(m,0,N)),(n,0,N))\n",
    "\n",
    "H_CT = t_e*sp.Sum(sp.Sum(Ket(n,n+s)*Bra(n,n+s+1)+Ket(n,n+s)*Bra(n,n+s-1)+Dagger(Ket(n,n+s)*Bra(n,n+s+1)+Ket(n,n+s)*Bra(n,n+s-1)),(s,0,N)),(n,0,N)) + t_h*sp.Sum(sp.Sum(Ket(n,n+s)*Bra(n+1,n+s)+Ket(n,n+s)*Bra(n-1,n+s)+Dagger(Ket(n,n+s)*Bra(n+1,n+s)+Ket(n,n+s)*Bra(n-1,n+s)),(s,0,N)),(n,0,N))+sp.Sum(sp.Sum(E_CT_s*Ket(n,n+s)*Bra(n,n+s),(s,1,N)),(n,0,N))\n",
    "H_CT\n",
    "\n",
    "\n",
    "H_vib = omega*sp.Sum(Dagger(b[n])*b[n],(n,0,N)) +omega*sp.Sum((lambd*(Dagger(b[n])+b[n])+lambd**2)*Ket(n)*Bra(n),(n,0,N))\n",
    "H_vib"
   ]
  },
  {
   "cell_type": "code",
   "execution_count": 136,
   "metadata": {},
   "outputs": [
    {
     "data": {
      "text/latex": [
       "$\\displaystyle \\sum_{n=1}^{N} E {\\left||n,0>\\right\\rangle } {\\left\\langle <n,0|\\right|} - \\sum_{n=1}^{N} J {\\left||n,0>\\right\\rangle } {\\left\\langle <n,0|\\right|} + \\sum_{\\substack{1 \\leq n \\leq N\\\\1 \\leq m \\leq N}} J {\\left||n,0>\\right\\rangle } {\\left\\langle <m,0|\\right|}$"
      ],
      "text/plain": [
       "Sum(E*||n,0>>*<<n,0||, (n, 1, N)) - Sum(J*||n,0>>*<<n,0||, (n, 1, N)) + Sum(J*||n,0>>*<<m,0||, (n, 1, N), (m, 1, N))"
      ]
     },
     "execution_count": 136,
     "metadata": {},
     "output_type": "execute_result"
    }
   ],
   "source": [
    "H_ex = sp.Sum(E * Ket(f\"|n,0>\") * Bra(f\"<{n},0|\"), (n, 1, N)) + \\\n",
    "       sp.Sum(J * Ket(f\"|n,0>\") * Bra(f\"<{m},0|\"), (n, 1, N), (m, 1, N)) - sp.Sum(J * Ket(f\"|n,0>\") * Bra(f\"<{n},0|\"), (n, 1, N))\n",
    "H_ex"
   ]
  },
  {
   "cell_type": "code",
   "execution_count": 15,
   "metadata": {},
   "outputs": [
    {
     "data": {
      "text/latex": [
       "$\\displaystyle - \\sum_{n=1}^{N} \\left(E + \\omega\\right) {\\left||n,0; n,1>\\right\\rangle } {\\left\\langle <n,0; n,1|\\right|} + \\sum_{\\substack{1 \\leq n \\leq N\\\\1 \\leq m \\leq N}} \\left(E + \\omega\\right) {\\left||n,0; m,1>\\right\\rangle } {\\left\\langle <n,0; m,1|\\right|}$"
      ],
      "text/plain": [
       "-Sum((E + omega)*||n,0; n,1>>*<<n,0; n,1||, (n, 1, N)) + Sum((E + omega)*||n,0; m,1>>*<<n,0; m,1||, (n, 1, N), (m, 1, N))"
      ]
     },
     "execution_count": 15,
     "metadata": {},
     "output_type": "execute_result"
    }
   ],
   "source": [
    "H_vib = sp.Sum((E + omega) * Ket(f\"|n,0; m,1>\") * Bra(f\"<{n},0; m,1|\"), (n, 1, N), (m, 1, N)) - sp.Sum((E + omega) * Ket(f\"|n,0; n,1>\") * Bra(f\"<{n},0; n,1|\"), (n, 1, N))\n",
    "H_vib"
   ]
  },
  {
   "cell_type": "code",
   "execution_count": 16,
   "metadata": {},
   "outputs": [],
   "source": [
    "# Exciton-phonon coupling term (with Franck-Condon factor)\n",
    "H_exCT = sp.Sum(V_exCT * f01 * Ket(f\"|n,0>\") * Bra(f\"<{n},0; m,1|\"), (n, 1, N), (m, 1, N)) - sp.Sum(V_exCT * f01 * Ket(f\"|n,0>\") * Bra(f\"<{n},0; n,1|\"), (n, 1, N))\n",
    "\n",
    "# Add Hermitian conjugate term\n",
    "H_exCT += sp.Sum(V_exCT * f01 * Ket(f\"|n,0; m,1>\") * Bra(f\"<{n},0|\"), (n, 1, N), (m, 1, N)) - sp.Sum(V_exCT * f01 * Ket(f\"|n,0; n,1>\") * Bra(f\"<{n},0|\"), (n, 1, N))"
   ]
  },
  {
   "cell_type": "code",
   "execution_count": 18,
   "metadata": {},
   "outputs": [
    {
     "name": "stdout",
     "output_type": "stream",
     "text": [
      "Full Hamiltonian in the multiparticle basis:\n"
     ]
    },
    {
     "data": {
      "text/latex": [
       "$\\displaystyle \\sum_{n=1}^{N} E {\\left||n,0>\\right\\rangle } {\\left\\langle <n,0|\\right|} - \\sum_{n=1}^{N} J {\\left||n,0>\\right\\rangle } {\\left\\langle <n,0|\\right|} - \\sum_{n=1}^{N} \\left(E + \\omega\\right) {\\left||n,0; n,1>\\right\\rangle } {\\left\\langle <n,0; n,1|\\right|} - \\sum_{n=1}^{N} \\sqrt{S} V_{exCT} e^{- \\frac{S}{2}} {\\left||n,0; n,1>\\right\\rangle } {\\left\\langle <n,0|\\right|} - \\sum_{n=1}^{N} \\sqrt{S} V_{exCT} e^{- \\frac{S}{2}} {\\left||n,0>\\right\\rangle } {\\left\\langle <n,0; n,1|\\right|} + \\sum_{\\substack{1 \\leq n \\leq N\\\\1 \\leq m \\leq N}} J {\\left||n,0>\\right\\rangle } {\\left\\langle <m,0|\\right|} + \\sum_{\\substack{1 \\leq n \\leq N\\\\1 \\leq m \\leq N}} \\left(E + \\omega\\right) {\\left||n,0; m,1>\\right\\rangle } {\\left\\langle <n,0; m,1|\\right|} + \\sum_{\\substack{1 \\leq n \\leq N\\\\1 \\leq m \\leq N}} \\sqrt{S} V_{exCT} e^{- \\frac{S}{2}} {\\left||n,0; m,1>\\right\\rangle } {\\left\\langle <n,0|\\right|} + \\sum_{\\substack{1 \\leq n \\leq N\\\\1 \\leq m \\leq N}} \\sqrt{S} V_{exCT} e^{- \\frac{S}{2}} {\\left||n,0>\\right\\rangle } {\\left\\langle <n,0; m,1|\\right|}$"
      ],
      "text/plain": [
       "Sum(E*||n,0>>*<<n,0||, (n, 1, N)) - Sum(J*||n,0>>*<<n,0||, (n, 1, N)) - Sum((E + omega)*||n,0; n,1>>*<<n,0; n,1||, (n, 1, N)) - Sum(sqrt(S)*V_exCT*exp(-S/2)*||n,0; n,1>>*<<n,0||, (n, 1, N)) - Sum(sqrt(S)*V_exCT*exp(-S/2)*||n,0>>*<<n,0; n,1||, (n, 1, N)) + Sum(J*||n,0>>*<<m,0||, (n, 1, N), (m, 1, N)) + Sum((E + omega)*||n,0; m,1>>*<<n,0; m,1||, (n, 1, N), (m, 1, N)) + Sum(sqrt(S)*V_exCT*exp(-S/2)*||n,0; m,1>>*<<n,0||, (n, 1, N), (m, 1, N)) + Sum(sqrt(S)*V_exCT*exp(-S/2)*||n,0>>*<<n,0; m,1||, (n, 1, N), (m, 1, N))"
      ]
     },
     "execution_count": 18,
     "metadata": {},
     "output_type": "execute_result"
    }
   ],
   "source": [
    "H_total = H_ex + H_vib + H_exCT\n",
    "\n",
    "print(\"Full Hamiltonian in the multiparticle basis:\")\n",
    "# sp.pprint(H_total)\n",
    "H_total"
   ]
  },
  {
   "cell_type": "code",
   "execution_count": null,
   "metadata": {},
   "outputs": [
    {
     "data": {
      "text/latex": [
       "$\\displaystyle {c}_{n,\\tilde{v}}$"
      ],
      "text/plain": [
       "c[n, vtilde]"
      ]
     },
     "execution_count": 67,
     "metadata": {},
     "output_type": "execute_result"
    }
   ],
   "source": []
  },
  {
   "cell_type": "code",
   "execution_count": null,
   "metadata": {},
   "outputs": [],
   "source": []
  }
 ],
 "metadata": {
  "kernelspec": {
   "display_name": "Python 3",
   "language": "python",
   "name": "python3"
  },
  "language_info": {
   "codemirror_mode": {
    "name": "ipython",
    "version": 3
   },
   "file_extension": ".py",
   "mimetype": "text/x-python",
   "name": "python",
   "nbconvert_exporter": "python",
   "pygments_lexer": "ipython3",
   "version": "3.13.1"
  }
 },
 "nbformat": 4,
 "nbformat_minor": 2
}
