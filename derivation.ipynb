{
 "cells": [
  {
   "cell_type": "code",
   "execution_count": 23,
   "metadata": {},
   "outputs": [],
   "source": [
    "from sympy import symbols\n",
    "from sympy.physics.quantum import Bra,Ket\n",
    "from sympy.physics.secondquant import BBra, BKet\n",
    "psi_em,cnv,c_nvmv,n,v,ndash,vdash,vtilde = symbols(r\"\\psi^{em} c_{n\\,\\tilde{v}} c_{n\\,\\tilde{v}\\,n'\\,v'} n v n' v' \\tilde{v}\")\n",
    "vmax, N = symbols('v_{max} N')"
   ]
  },
  {
   "cell_type": "code",
   "execution_count": 29,
   "metadata": {},
   "outputs": [
    {
     "data": {
      "text/latex": [
       "$\\displaystyle \\sum_{\\substack{0 \\leq \\tilde{v} \\leq v_{max}\\\\1 \\leq n \\leq N}} c_{n,\\tilde{v}} \\left|\\left( n, \\  \\tilde{v}\\right)\\right\\rangle + \\sum_{\\substack{1 \\leq v' \\leq v_{max}\\\\1 \\leq n' \\leq N\\\\0 \\leq \\tilde{v} \\leq v_{max}\\\\1 \\leq n \\leq N}} c_{n,\\tilde{v},n',v'} \\left|\\left( n, \\  \\tilde{v}, \\  n', \\  v'\\right)\\right\\rangle$"
      ],
      "text/plain": [
       "Sum(c_{n,\\tilde{v}}*FockStateBosonKet((n, \\tilde{v})), (\\tilde{v}, 0, v_{max}), (n, 1, N)) + Sum(c_{n,\\tilde{v},n',v'}*FockStateBosonKet((n, \\tilde{v}, n', v')), (v', 1, v_{max}), (n', 1, N), (\\tilde{v}, 0, v_{max}), (n, 1, N))"
      ]
     },
     "execution_count": 29,
     "metadata": {},
     "output_type": "execute_result"
    }
   ],
   "source": [
    "from sympy import summation, Sum, Indexed\n",
    "Sum(Sum(cnv*BKet((n,vtilde)),(vtilde,0,vmax)), (n,1,N)) + Sum(Sum(Sum(Sum(c_nvmv*BKet((n,vtilde,ndash,vdash)),(vdash,1,vmax)),(ndash,1,N)),(vtilde,0,vmax)),(n,1,N))\n"
   ]
  },
  {
   "cell_type": "code",
   "execution_count": 21,
   "metadata": {},
   "outputs": [],
   "source": [
    "from sympy.physics.secondquant import BBra, BKet"
   ]
  },
  {
   "cell_type": "code",
   "execution_count": 22,
   "metadata": {},
   "outputs": [
    {
     "data": {
      "text/latex": [
       "$\\displaystyle \\left|\\left( n, \\  \\tilde{v}\\right)\\right\\rangle$"
      ],
      "text/plain": [
       "FockState((n, \\tilde{v}))"
      ]
     },
     "execution_count": 22,
     "metadata": {},
     "output_type": "execute_result"
    }
   ],
   "source": [
    "BKet((n,vtilde))"
   ]
  },
  {
   "cell_type": "code",
   "execution_count": null,
   "metadata": {},
   "outputs": [],
   "source": []
  }
 ],
 "metadata": {
  "kernelspec": {
   "display_name": "Python 3",
   "language": "python",
   "name": "python3"
  },
  "language_info": {
   "codemirror_mode": {
    "name": "ipython",
    "version": 3
   },
   "file_extension": ".py",
   "mimetype": "text/x-python",
   "name": "python",
   "nbconvert_exporter": "python",
   "pygments_lexer": "ipython3",
   "version": "3.12.1"
  }
 },
 "nbformat": 4,
 "nbformat_minor": 2
}
